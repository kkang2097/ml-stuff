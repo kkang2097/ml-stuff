{
 "cells": [
  {
   "cell_type": "markdown",
   "id": "6a82a57d",
   "metadata": {},
   "source": [
    "# Trying Go"
   ]
  },
  {
   "cell_type": "markdown",
   "id": "f3ee8d1b",
   "metadata": {},
   "source": [
    "Let's do this later lol"
   ]
  },
  {
   "cell_type": "code",
   "execution_count": 10,
   "id": "565ec696",
   "metadata": {},
   "outputs": [
    {
     "ename": "ERROR",
     "evalue": "repl.go:2:17: illegal rune literal",
     "output_type": "error",
     "traceback": [
      "repl.go:2:17: illegal rune literal"
     ]
    }
   ],
   "source": [
    "func whatever(){\n",
    "    fmt.Println('hello world')\n",
    "}\n",
    "anyting = whatever()"
   ]
  },
  {
   "cell_type": "code",
   "execution_count": null,
   "id": "30ba52ef",
   "metadata": {},
   "outputs": [],
   "source": []
  }
 ],
 "metadata": {
  "kernelspec": {
   "display_name": "Go",
   "language": "go",
   "name": "gophernotes"
  },
  "language_info": {
   "codemirror_mode": "",
   "file_extension": ".go",
   "mimetype": "",
   "name": "go",
   "nbconvert_exporter": "",
   "pygments_lexer": "",
   "version": "go1.20.6"
  }
 },
 "nbformat": 4,
 "nbformat_minor": 5
}
