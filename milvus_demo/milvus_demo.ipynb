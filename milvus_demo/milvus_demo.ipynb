{
 "cells": [
  {
   "cell_type": "markdown",
   "id": "c7668112",
   "metadata": {},
   "source": [
    "# Real-World Document Embedding for Fast Search"
   ]
  },
  {
   "cell_type": "markdown",
   "id": "a15df1c3",
   "metadata": {},
   "source": [
    "Vector databases have gotten much more popular for querying text data. But how do we get a quick and dirty prototype started? \n",
    "<br><br>In this demo, we'll pull data from an internal source like you would at your workplace/larger dev project and run vector search inside this notebook.\n"
   ]
  },
  {
   "cell_type": "markdown",
   "id": "1c2e3705",
   "metadata": {},
   "source": [
    "#### Goal: Take real-world document data and make fast queries with Vector Search"
   ]
  },
  {
   "cell_type": "markdown",
   "id": "3a38d817",
   "metadata": {},
   "source": [
    "## Contents\n",
    "- Baseline Architecture\n",
    "    - Vector DB common questions\n",
    "- Implementation\n",
    "    - Data\n",
    "    - Code\n",
    "\n",
    "\n",
    "Our workflow will be as follows: MongoDB data -> OpenAI embedding -> Search with Milvus"
   ]
  },
  {
   "cell_type": "markdown",
   "id": "f5de89d3",
   "metadata": {},
   "source": [
    "### Baseline Architecture"
   ]
  },
  {
   "cell_type": "markdown",
   "id": "735d4fdb",
   "metadata": {},
   "source": [
    "- Data Source: MongoDB\n",
    "- Embeddings Generator: OpenAI Embeddings API\n",
    "- Vector DB/Vector Search: Milvus Lite"
   ]
  },
  {
   "cell_type": "markdown",
   "id": "4083097c",
   "metadata": {},
   "source": [
    "![VDB Basic Architecture](./vdb.png)"
   ]
  },
  {
   "cell_type": "markdown",
   "id": "828f8d2d",
   "metadata": {},
   "source": [
    "#### Questions we need to answer:\n",
    "- What's the point of this?\n",
    "- How is this different from how we have been doing search?\n",
    "- Do I need to store all of my data in a vector database?\n",
    "- Does this save time, money, effort?\n",
    "\n",
    "The key idea is that we can run search based on vector embeddings instead of the data itself. \n",
    "\n",
    "Traditional search systems, and even modern search systems, rely on processing parts of the dataset during inference. \n",
    "\n",
    "No, we just need to store the vector embeddings. The fastest way is to store a pointer/index of the original data along with its embedding.\n",
    "\n",
    "Vector search using approximate nearest neighbors (ANN) has a much lower time complexity, resulting in __orders of magnitude__ less compute needed."
   ]
  },
  {
   "cell_type": "markdown",
   "id": "09c4e340",
   "metadata": {},
   "source": [
    "## Implementation"
   ]
  },
  {
   "cell_type": "markdown",
   "id": "394752d5",
   "metadata": {},
   "source": [
    "### Dataset: TechCrunch RSS News Feed"
   ]
  },
  {
   "cell_type": "markdown",
   "id": "8ada454b",
   "metadata": {},
   "source": [
    "We have a prepared dataset of news from TechCrunch's RSS Feed, and we load it into a Pandas dataframe for readability. **fulltext** is the cleaned text data from each news article."
   ]
  },
  {
   "cell_type": "markdown",
   "id": "bec5d45d",
   "metadata": {},
   "source": [
    "#### Let's pull our document data from MongoDB"
   ]
  },
  {
   "cell_type": "code",
   "execution_count": 1,
   "id": "5920f8cd",
   "metadata": {},
   "outputs": [],
   "source": [
    "from pymongo.mongo_client import MongoClient\n",
    "from tqdm import tqdm\n",
    "import pandas as pd\n",
    "import openai\n",
    "import pymilvus\n",
    "import milvus\n",
    "import os"
   ]
  },
  {
   "cell_type": "code",
   "execution_count": 2,
   "id": "bbcbd495",
   "metadata": {
    "scrolled": false
   },
   "outputs": [
    {
     "data": {
      "text/html": [
       "<div>\n",
       "<style scoped>\n",
       "    .dataframe tbody tr th:only-of-type {\n",
       "        vertical-align: middle;\n",
       "    }\n",
       "\n",
       "    .dataframe tbody tr th {\n",
       "        vertical-align: top;\n",
       "    }\n",
       "\n",
       "    .dataframe thead th {\n",
       "        text-align: right;\n",
       "    }\n",
       "</style>\n",
       "<table border=\"1\" class=\"dataframe\">\n",
       "  <thead>\n",
       "    <tr style=\"text-align: right;\">\n",
       "      <th></th>\n",
       "      <th>title</th>\n",
       "      <th>link</th>\n",
       "      <th>published</th>\n",
       "      <th>description</th>\n",
       "      <th>fulltext</th>\n",
       "    </tr>\n",
       "  </thead>\n",
       "  <tbody>\n",
       "    <tr>\n",
       "      <th>0</th>\n",
       "      <td>AI leaders warn Senate of twin risks: Moving t...</td>\n",
       "      <td>https://techcrunch.com/2023/07/25/ai-leaders-w...</td>\n",
       "      <td>Tue, 25 Jul 2023 23:23:15 +0000</td>\n",
       "      <td>Leaders from the AI research world appeared be...</td>\n",
       "      <td>Leaders from the AI research world appeared be...</td>\n",
       "    </tr>\n",
       "    <tr>\n",
       "      <th>1</th>\n",
       "      <td>Exclusive: Goodwater Capital snags $1B across ...</td>\n",
       "      <td>https://techcrunch.com/2023/07/25/exclusive-go...</td>\n",
       "      <td>Tue, 25 Jul 2023 22:30:57 +0000</td>\n",
       "      <td>Goodwater, one of comparatively few firms to f...</td>\n",
       "      <td>Goodwater, one of comparatively few firms to f...</td>\n",
       "    </tr>\n",
       "    <tr>\n",
       "      <th>2</th>\n",
       "      <td>Main Sequence hits first close of $450M AUD fo...</td>\n",
       "      <td>https://techcrunch.com/2023/07/25/main-sequenc...</td>\n",
       "      <td>Tue, 25 Jul 2023 22:16:13 +0000</td>\n",
       "      <td>Main Sequence, an Australian venture capital f...</td>\n",
       "      <td>Main Sequence, an Australian venture capital f...</td>\n",
       "    </tr>\n",
       "    <tr>\n",
       "      <th>3</th>\n",
       "      <td>Snap’s revenue woes continue but earnings yiel...</td>\n",
       "      <td>https://techcrunch.com/2023/07/25/snap-snapcha...</td>\n",
       "      <td>Tue, 25 Jul 2023 21:50:08 +0000</td>\n",
       "      <td>Snap just reported its quarterly earnings and ...</td>\n",
       "      <td>Snap just reported its quarterly earnings and ...</td>\n",
       "    </tr>\n",
       "    <tr>\n",
       "      <th>4</th>\n",
       "      <td>Amazon will now warn consumers of recalls and ...</td>\n",
       "      <td>https://techcrunch.com/2023/07/25/amazon-will-...</td>\n",
       "      <td>Tue, 25 Jul 2023 20:40:02 +0000</td>\n",
       "      <td>Amazon today introduced a new feature that wil...</td>\n",
       "      <td>Amazon today introduced a new feature that wil...</td>\n",
       "    </tr>\n",
       "  </tbody>\n",
       "</table>\n",
       "</div>"
      ],
      "text/plain": [
       "                                               title  \\\n",
       "0  AI leaders warn Senate of twin risks: Moving t...   \n",
       "1  Exclusive: Goodwater Capital snags $1B across ...   \n",
       "2  Main Sequence hits first close of $450M AUD fo...   \n",
       "3  Snap’s revenue woes continue but earnings yiel...   \n",
       "4  Amazon will now warn consumers of recalls and ...   \n",
       "\n",
       "                                                link  \\\n",
       "0  https://techcrunch.com/2023/07/25/ai-leaders-w...   \n",
       "1  https://techcrunch.com/2023/07/25/exclusive-go...   \n",
       "2  https://techcrunch.com/2023/07/25/main-sequenc...   \n",
       "3  https://techcrunch.com/2023/07/25/snap-snapcha...   \n",
       "4  https://techcrunch.com/2023/07/25/amazon-will-...   \n",
       "\n",
       "                         published  \\\n",
       "0  Tue, 25 Jul 2023 23:23:15 +0000   \n",
       "1  Tue, 25 Jul 2023 22:30:57 +0000   \n",
       "2  Tue, 25 Jul 2023 22:16:13 +0000   \n",
       "3  Tue, 25 Jul 2023 21:50:08 +0000   \n",
       "4  Tue, 25 Jul 2023 20:40:02 +0000   \n",
       "\n",
       "                                         description  \\\n",
       "0  Leaders from the AI research world appeared be...   \n",
       "1  Goodwater, one of comparatively few firms to f...   \n",
       "2  Main Sequence, an Australian venture capital f...   \n",
       "3  Snap just reported its quarterly earnings and ...   \n",
       "4  Amazon today introduced a new feature that wil...   \n",
       "\n",
       "                                            fulltext  \n",
       "0  Leaders from the AI research world appeared be...  \n",
       "1  Goodwater, one of comparatively few firms to f...  \n",
       "2  Main Sequence, an Australian venture capital f...  \n",
       "3  Snap just reported its quarterly earnings and ...  \n",
       "4  Amazon today introduced a new feature that wil...  "
      ]
     },
     "execution_count": 2,
     "metadata": {},
     "output_type": "execute_result"
    }
   ],
   "source": [
    "#Get posts\n",
    "mc = MongoClient(os.getenv('MONGO_URI'))\n",
    "posts = pd.json_normalize(list(mc['data']['rss_data'].find({}))).rename(columns={'_id': 'title'})\n",
    "#How the data is structured\n",
    "posts.head()"
   ]
  },
  {
   "cell_type": "markdown",
   "id": "0bc13d30",
   "metadata": {},
   "source": [
    "#### Generate Embeddings"
   ]
  },
  {
   "cell_type": "markdown",
   "id": "9592d63c",
   "metadata": {},
   "source": [
    "We use OpenAI's embeddings, but in practice you can use any text embedding model. Make sure to use TQDM's progress bar (so you know how long each iteration takes)!"
   ]
  },
  {
   "cell_type": "code",
   "execution_count": 3,
   "id": "8676c4f8",
   "metadata": {},
   "outputs": [
    {
     "name": "stderr",
     "output_type": "stream",
     "text": [
      "20it [00:15,  1.25it/s]\n"
     ]
    }
   ],
   "source": [
    "openai.api_key = os.getenv(\"OPENAI_KEY\")\n",
    "model_id = \"text-similarity-davinci-001\"\n",
    "\n",
    "def get_embedding(text: str):\n",
    "    return openai.Embedding.create(input=text, model=model_id)['data'][0]['embedding']\n",
    "\n",
    "embeddings = []\n",
    "for idx, row in tqdm(posts.iterrows()):\n",
    "    embedding = get_embedding(row['fulltext'])\n",
    "    embeddings.append(embedding)"
   ]
  },
  {
   "cell_type": "code",
   "execution_count": 4,
   "id": "1e9a40c1",
   "metadata": {},
   "outputs": [
    {
     "data": {
      "text/html": [
       "<div>\n",
       "<style scoped>\n",
       "    .dataframe tbody tr th:only-of-type {\n",
       "        vertical-align: middle;\n",
       "    }\n",
       "\n",
       "    .dataframe tbody tr th {\n",
       "        vertical-align: top;\n",
       "    }\n",
       "\n",
       "    .dataframe thead th {\n",
       "        text-align: right;\n",
       "    }\n",
       "</style>\n",
       "<table border=\"1\" class=\"dataframe\">\n",
       "  <thead>\n",
       "    <tr style=\"text-align: right;\">\n",
       "      <th></th>\n",
       "      <th>title</th>\n",
       "      <th>link</th>\n",
       "      <th>published</th>\n",
       "      <th>description</th>\n",
       "      <th>fulltext</th>\n",
       "      <th>embeddings</th>\n",
       "    </tr>\n",
       "  </thead>\n",
       "  <tbody>\n",
       "    <tr>\n",
       "      <th>0</th>\n",
       "      <td>AI leaders warn Senate of twin risks: Moving t...</td>\n",
       "      <td>https://techcrunch.com/2023/07/25/ai-leaders-w...</td>\n",
       "      <td>Tue, 25 Jul 2023 23:23:15 +0000</td>\n",
       "      <td>Leaders from the AI research world appeared be...</td>\n",
       "      <td>Leaders from the AI research world appeared be...</td>\n",
       "      <td>[0.008354601450264454, 0.004420607816427946, -...</td>\n",
       "    </tr>\n",
       "    <tr>\n",
       "      <th>1</th>\n",
       "      <td>Exclusive: Goodwater Capital snags $1B across ...</td>\n",
       "      <td>https://techcrunch.com/2023/07/25/exclusive-go...</td>\n",
       "      <td>Tue, 25 Jul 2023 22:30:57 +0000</td>\n",
       "      <td>Goodwater, one of comparatively few firms to f...</td>\n",
       "      <td>Goodwater, one of comparatively few firms to f...</td>\n",
       "      <td>[0.007502191700041294, 0.0019230301259085536, ...</td>\n",
       "    </tr>\n",
       "    <tr>\n",
       "      <th>2</th>\n",
       "      <td>Main Sequence hits first close of $450M AUD fo...</td>\n",
       "      <td>https://techcrunch.com/2023/07/25/main-sequenc...</td>\n",
       "      <td>Tue, 25 Jul 2023 22:16:13 +0000</td>\n",
       "      <td>Main Sequence, an Australian venture capital f...</td>\n",
       "      <td>Main Sequence, an Australian venture capital f...</td>\n",
       "      <td>[0.007211583200842142, -0.004153947811573744, ...</td>\n",
       "    </tr>\n",
       "    <tr>\n",
       "      <th>3</th>\n",
       "      <td>Snap’s revenue woes continue but earnings yiel...</td>\n",
       "      <td>https://techcrunch.com/2023/07/25/snap-snapcha...</td>\n",
       "      <td>Tue, 25 Jul 2023 21:50:08 +0000</td>\n",
       "      <td>Snap just reported its quarterly earnings and ...</td>\n",
       "      <td>Snap just reported its quarterly earnings and ...</td>\n",
       "      <td>[-0.009737272746860981, 0.011124690994620323, ...</td>\n",
       "    </tr>\n",
       "    <tr>\n",
       "      <th>4</th>\n",
       "      <td>Amazon will now warn consumers of recalls and ...</td>\n",
       "      <td>https://techcrunch.com/2023/07/25/amazon-will-...</td>\n",
       "      <td>Tue, 25 Jul 2023 20:40:02 +0000</td>\n",
       "      <td>Amazon today introduced a new feature that wil...</td>\n",
       "      <td>Amazon today introduced a new feature that wil...</td>\n",
       "      <td>[0.004565441980957985, 0.001533430884592235, -...</td>\n",
       "    </tr>\n",
       "  </tbody>\n",
       "</table>\n",
       "</div>"
      ],
      "text/plain": [
       "                                               title  \\\n",
       "0  AI leaders warn Senate of twin risks: Moving t...   \n",
       "1  Exclusive: Goodwater Capital snags $1B across ...   \n",
       "2  Main Sequence hits first close of $450M AUD fo...   \n",
       "3  Snap’s revenue woes continue but earnings yiel...   \n",
       "4  Amazon will now warn consumers of recalls and ...   \n",
       "\n",
       "                                                link  \\\n",
       "0  https://techcrunch.com/2023/07/25/ai-leaders-w...   \n",
       "1  https://techcrunch.com/2023/07/25/exclusive-go...   \n",
       "2  https://techcrunch.com/2023/07/25/main-sequenc...   \n",
       "3  https://techcrunch.com/2023/07/25/snap-snapcha...   \n",
       "4  https://techcrunch.com/2023/07/25/amazon-will-...   \n",
       "\n",
       "                         published  \\\n",
       "0  Tue, 25 Jul 2023 23:23:15 +0000   \n",
       "1  Tue, 25 Jul 2023 22:30:57 +0000   \n",
       "2  Tue, 25 Jul 2023 22:16:13 +0000   \n",
       "3  Tue, 25 Jul 2023 21:50:08 +0000   \n",
       "4  Tue, 25 Jul 2023 20:40:02 +0000   \n",
       "\n",
       "                                         description  \\\n",
       "0  Leaders from the AI research world appeared be...   \n",
       "1  Goodwater, one of comparatively few firms to f...   \n",
       "2  Main Sequence, an Australian venture capital f...   \n",
       "3  Snap just reported its quarterly earnings and ...   \n",
       "4  Amazon today introduced a new feature that wil...   \n",
       "\n",
       "                                            fulltext  \\\n",
       "0  Leaders from the AI research world appeared be...   \n",
       "1  Goodwater, one of comparatively few firms to f...   \n",
       "2  Main Sequence, an Australian venture capital f...   \n",
       "3  Snap just reported its quarterly earnings and ...   \n",
       "4  Amazon today introduced a new feature that wil...   \n",
       "\n",
       "                                          embeddings  \n",
       "0  [0.008354601450264454, 0.004420607816427946, -...  \n",
       "1  [0.007502191700041294, 0.0019230301259085536, ...  \n",
       "2  [0.007211583200842142, -0.004153947811573744, ...  \n",
       "3  [-0.009737272746860981, 0.011124690994620323, ...  \n",
       "4  [0.004565441980957985, 0.001533430884592235, -...  "
      ]
     },
     "execution_count": 4,
     "metadata": {},
     "output_type": "execute_result"
    }
   ],
   "source": [
    "#Add embeddings to our dataframe\n",
    "posts['embeddings'] = embeddings\n",
    "posts.head()"
   ]
  },
  {
   "cell_type": "markdown",
   "id": "437b939b",
   "metadata": {},
   "source": [
    "#### VectorDB initialization"
   ]
  },
  {
   "cell_type": "code",
   "execution_count": 24,
   "id": "e18132e1",
   "metadata": {
    "scrolled": true
   },
   "outputs": [
    {
     "name": "stdout",
     "output_type": "stream",
     "text": [
      "\n",
      "\n",
      "    __  _________ _   ____  ______\n",
      "   /  |/  /  _/ /| | / / / / / __/\n",
      "  / /|_/ // // /_| |/ / /_/ /\\ \\\n",
      " /_/  /_/___/____/___/\\____/___/ {Lite}\n",
      "\n",
      " Welcome to use Milvus!\n",
      "\n",
      " Version:   v2.2.12-lite\n",
      " Process:   27402\n",
      " Started:   2023-07-26 13:48:26\n",
      " Config:    /home/elliot/.milvus.io/milvus-server/2.2.12/configs/milvus.yaml\n",
      " Logs:      /home/elliot/.milvus.io/milvus-server/2.2.12/logs\n",
      "\n",
      " Ctrl+C to exit ...\n",
      "Milvus instance started in 0:00:07.426961 seconds\n"
     ]
    }
   ],
   "source": [
    "#Refresh the Milvus instance if one already exists\n",
    "if default_server:\n",
    "    default_server.stop()\n",
    "    default_server.cleanup()\n",
    "    connections.disconnect('default')\n",
    "    del default_server\n",
    "from milvus import default_server\n",
    "from pymilvus import connections, utility\n",
    "from pymilvus import FieldSchema, CollectionSchema, DataType, Collection\n",
    "from datetime import datetime\n",
    "\n",
    "COLLECTION_NAME = \"RSS_POST_SEARCH\"\n",
    "#Depending on your embedding size, you should change the dimension.\n",
    "#The quickest way I found was to try adding embeddings to the Collection object first,\n",
    "#and the resulting bug will tell you which dimension your Milvus instance should accept.\n",
    "DIMENSION = 12288\n",
    "BATCH_SIZE = 64\n",
    "TOPK = 3\n",
    "\n",
    "#Time how long it takes to start Milvus instance\n",
    "start = datetime.now()\n",
    "\n",
    "default_server.start()\n",
    "connections.connect(host=\"127.0.0.1\", port=default_server.listen_port)\n",
    "if utility.has_collection(COLLECTION_NAME):\n",
    "    utility.drop_collection(COLLECTION_NAME)\n",
    "    \n",
    "    \n",
    "# object should be inserted in the format of (title, date, location, speech embedding)\n",
    "fields = [\n",
    "    FieldSchema(name=\"id\", dtype=DataType.INT64, is_primary=True, auto_id=True),\n",
    "    FieldSchema(name=\"title\", dtype=DataType.VARCHAR, max_length=500),\n",
    "    FieldSchema(name=\"link\", dtype=DataType.VARCHAR, max_length=200),\n",
    "    FieldSchema(name=\"date\", dtype=DataType.VARCHAR, max_length=100),\n",
    "    FieldSchema(name=\"embedding\", dtype=DataType.FLOAT_VECTOR, dim=DIMENSION)\n",
    "]\n",
    "schema = CollectionSchema(fields=fields)\n",
    "collection = Collection(name=COLLECTION_NAME, schema=schema)\n",
    "\n",
    "\n",
    "#End time\n",
    "total = datetime.now() - start\n",
    "print(\"Milvus instance started in \" + str(total) + \" seconds\")"
   ]
  },
  {
   "cell_type": "code",
   "execution_count": 25,
   "id": "06eb9c75",
   "metadata": {},
   "outputs": [],
   "source": [
    "index_params = {\n",
    "    \"index_type\": \"IVF_FLAT\",\n",
    "    \"metric_type\": \"L2\",\n",
    "    \"params\": {\"nlist\": DIMENSION},\n",
    "}\n",
    "\n",
    "collection.create_index(field_name=\"embedding\", index_params=index_params)\n",
    "collection.load()"
   ]
  },
  {
   "cell_type": "code",
   "execution_count": 26,
   "id": "4c0e8a55",
   "metadata": {},
   "outputs": [],
   "source": [
    "#Add DataFrame data to Milvus\n",
    "for idx, row in posts.iterrows():\n",
    "    data = [[row['title']], [row['link']], [str(row['published'])], [row['embeddings']]]\n",
    "    \n",
    "    collection.insert(data)\n",
    "collection.flush()"
   ]
  },
  {
   "cell_type": "code",
   "execution_count": 32,
   "id": "f5518e67",
   "metadata": {},
   "outputs": [
    {
     "name": "stdout",
     "output_type": "stream",
     "text": [
      "Title: Generative AI\n",
      "Search Time: 0.014770984649658203\n",
      "Results:\n",
      "Growth driven by AI will be the metric to watch this earnings cycle ---- 0.9384163022041321\n",
      "Snap’s revenue woes continue but earnings yield a few bright spots ---- 0.9753267765045166\n",
      "Buy in bulk: Take your team to TechCrunch Disrupt 2023 and save ---- 0.9970754384994507\n",
      "\n"
     ]
    }
   ],
   "source": [
    "import time\n",
    "\n",
    "#Embed our search query\n",
    "query_string = 'Generative AI'\n",
    "search_vec = [get_embedding('Generative AI')]\n",
    "\n",
    "\n",
    "#Find relevant articles\n",
    "start = time.time()\n",
    "res = collection.search(\n",
    "    data=search_vec,  # Embedded search value\n",
    "    anns_field=\"embedding\",  # Search across embeddings\n",
    "    param={\"metric_type\": \"L2\",\n",
    "            \"params\": {\"nprobe\": 10}},\n",
    "    limit = TOPK,  # Limit to top_k results per search\n",
    "    output_fields=[\"title\"]  # Include title field in result\n",
    ")\n",
    "end = time.time()\n",
    "\n",
    "#Show results\n",
    "for hits_i, hits in enumerate(res):\n",
    "    print(\"Title:\", query_string)\n",
    "    print(\"Search Time:\", end-start)\n",
    "    print(\"Results:\")\n",
    "    for hit in hits:\n",
    "        print( hit.entity.get(\"title\"), \"----\", hit.distance)\n",
    "    print()"
   ]
  },
  {
   "cell_type": "code",
   "execution_count": 33,
   "id": "39677fa7",
   "metadata": {},
   "outputs": [],
   "source": [
    "#Stop the instance!\n",
    "default_server.stop()\n",
    "default_server.cleanup()"
   ]
  }
 ],
 "metadata": {
  "kernelspec": {
   "display_name": "Python 3 (ipykernel)",
   "language": "python",
   "name": "python3"
  },
  "language_info": {
   "codemirror_mode": {
    "name": "ipython",
    "version": 3
   },
   "file_extension": ".py",
   "mimetype": "text/x-python",
   "name": "python",
   "nbconvert_exporter": "python",
   "pygments_lexer": "ipython3",
   "version": "3.10.9"
  }
 },
 "nbformat": 4,
 "nbformat_minor": 5
}
