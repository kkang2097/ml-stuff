{
 "cells": [
  {
   "cell_type": "markdown",
   "id": "4358e1a0",
   "metadata": {},
   "source": [
    "# Zilliz Cloud Example"
   ]
  },
  {
   "cell_type": "markdown",
   "id": "bcd6b498",
   "metadata": {},
   "source": [
    "#### Goal: Learn how to connect to Zilliz Cloud using Python"
   ]
  },
  {
   "cell_type": "markdown",
   "id": "b7fface3",
   "metadata": {},
   "source": [
    "#### Outline\n",
    "- Initial connection to Zilliz\n",
    "- Creating a collection\n",
    "- Getting entries\n",
    "- Doing search"
   ]
  },
  {
   "cell_type": "markdown",
   "id": "ce0e9d0f",
   "metadata": {},
   "source": [
    "### Connecting to Zilliz"
   ]
  },
  {
   "cell_type": "markdown",
   "id": "ed2aba4e",
   "metadata": {},
   "source": [
    "Let's get the initial code running first"
   ]
  },
  {
   "cell_type": "code",
   "execution_count": 11,
   "id": "f08e788c",
   "metadata": {},
   "outputs": [],
   "source": [
    "import os\n",
    "import pymilvus as pm\n",
    "import numpy as np\n",
    "zilliz_client = pm.MilvusClient(uri=os.getenv('ZILLIZ_URI'), token=os.getenv('ZILLIZ_KEY'))"
   ]
  },
  {
   "cell_type": "code",
   "execution_count": 15,
   "id": "5477aba6",
   "metadata": {},
   "outputs": [
    {
     "ename": "TypeError",
     "evalue": "only size-1 arrays can be converted to Python scalars",
     "output_type": "error",
     "traceback": [
      "\u001b[0;31m---------------------------------------------------------------------------\u001b[0m",
      "\u001b[0;31mTypeError\u001b[0m                                 Traceback (most recent call last)",
      "Cell \u001b[0;32mIn[15], line 1\u001b[0m\n\u001b[0;32m----> 1\u001b[0m zilliz_client\u001b[38;5;241m.\u001b[39minsert(collection_name\u001b[38;5;241m=\u001b[39m\u001b[38;5;124m'\u001b[39m\u001b[38;5;124mRSS\u001b[39m\u001b[38;5;124m'\u001b[39m, data\u001b[38;5;241m=\u001b[39m{\u001b[38;5;124m'\u001b[39m\u001b[38;5;124mdata\u001b[39m\u001b[38;5;124m'\u001b[39m: \u001b[38;5;28;43mfloat\u001b[39;49m\u001b[43m(\u001b[49m\u001b[43mnp\u001b[49m\u001b[38;5;241;43m.\u001b[39;49m\u001b[43mrandom\u001b[49m\u001b[38;5;241;43m.\u001b[39;49m\u001b[43mrandom\u001b[49m\u001b[43m(\u001b[49m\u001b[38;5;241;43m128\u001b[39;49m\u001b[43m)\u001b[49m\u001b[43m)\u001b[49m})\n",
      "\u001b[0;31mTypeError\u001b[0m: only size-1 arrays can be converted to Python scalars"
     ]
    }
   ],
   "source": [
    "zilliz_client.insert(collection_name='RSS', data={'data': float(np.random.random(128))})"
   ]
  },
  {
   "cell_type": "code",
   "execution_count": null,
   "id": "f31ac782",
   "metadata": {},
   "outputs": [],
   "source": []
  }
 ],
 "metadata": {
  "kernelspec": {
   "display_name": "Python 3 (ipykernel)",
   "language": "python",
   "name": "python3"
  },
  "language_info": {
   "codemirror_mode": {
    "name": "ipython",
    "version": 3
   },
   "file_extension": ".py",
   "mimetype": "text/x-python",
   "name": "python",
   "nbconvert_exporter": "python",
   "pygments_lexer": "ipython3",
   "version": "3.10.9"
  }
 },
 "nbformat": 4,
 "nbformat_minor": 5
}
