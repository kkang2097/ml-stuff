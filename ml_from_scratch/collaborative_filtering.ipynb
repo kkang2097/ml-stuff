{
 "cells": [
  {
   "cell_type": "markdown",
   "id": "13a2109f",
   "metadata": {},
   "source": [
    "# Collaborative Filtering from Scratch"
   ]
  },
  {
   "cell_type": "markdown",
   "id": "365d57b3",
   "metadata": {},
   "source": [
    "The goal is to implement a collaborative filtering algorithm from scratch. We should have the following progression:\n",
    "- Basics\n",
    "- CF algorithm\n",
    "- Naive collaborative filtering with Alternating Least Squares\n",
    "- Naive CF with SGD\n",
    "- Naive CF with streaming updates\n",
    "\n",
    "Then we can make our matrix CF model non-linear:\n",
    "- Non-linear CF\n",
    "- Non-linear CF with streaming"
   ]
  },
  {
   "cell_type": "markdown",
   "id": "3f494985",
   "metadata": {},
   "source": [
    "#### Extras\n",
    "But modern CF models use neural networks...\n",
    "\n",
    "- Using NN to do basic CF\n",
    "- NN for non-linear CF\n",
    "- NN for CF with side data\n",
    "- Bayesian CF"
   ]
  },
  {
   "cell_type": "markdown",
   "id": "c84e856a",
   "metadata": {},
   "source": [
    "#### A good flavor of CF: Tag-based CF"
   ]
  },
  {
   "cell_type": "markdown",
   "id": "b7dd4b27",
   "metadata": {},
   "source": [
    "If we have time, we can make a more efficient recommendation system that's\n",
    "- more storage efficient\n",
    "- good for online training scenario"
   ]
  },
  {
   "cell_type": "markdown",
   "id": "ff1cb6b2",
   "metadata": {},
   "source": [
    "## Basics"
   ]
  },
  {
   "cell_type": "markdown",
   "id": "611e4a2b",
   "metadata": {},
   "source": [
    "The recommender problem is one of **matrix completion**"
   ]
  },
  {
   "cell_type": "markdown",
   "id": "139777e1",
   "metadata": {},
   "source": [
    "We start with a rating matrix $R$, which is $N$ x $M$ ($n$ users, $m$ items)\n",
    "\n",
    "Let's say our target is the predicted ratings  $\\hat{Y}_{ui} \\approx R$. Then our optimization problem becomes\n",
    "$$ \\mathcal{L}(Z) = \\sum_{ij:Y_{ij \\neq ?}} ||Z - Y||^2$$"
   ]
  },
  {
   "cell_type": "markdown",
   "id": "ef5c72f6",
   "metadata": {},
   "source": [
    "With some constraints, we can make the problem solvable:\n",
    "- $Y$ is low rank $\\rightarrow Z = UV^T \\approx Y$\n",
    "- We can map $U$ and $V$ pair-wise to latent variables $\\rightarrow U$ is [$N$ x $K$], $V$ is [$M$ x $K$]\n",
    "\n",
    "This also means we need to \"fill out\" $U$ and $V$.\n",
    "\n",
    "For basic collaborative filtering with matrices, we can do this with Alternating Least Squares (ALS)."
   ]
  },
  {
   "cell_type": "markdown",
   "id": "4088fdfe",
   "metadata": {},
   "source": [
    "#### Simple ALS"
   ]
  },
  {
   "cell_type": "code",
   "execution_count": 188,
   "id": "fb1281c2",
   "metadata": {},
   "outputs": [],
   "source": [
    "import numpy as np"
   ]
  },
  {
   "cell_type": "code",
   "execution_count": 246,
   "id": "17d01e9f",
   "metadata": {},
   "outputs": [],
   "source": [
    "#2 users, 3 items, 5 latents\n",
    "n = 2\n",
    "m = 3\n",
    "k = 5\n",
    "noise = 1e-4\n",
    "#Generates [2,3] array\n",
    "R = np.array([[0, 1, 0], [1, 1, 0]], dtype=float)"
   ]
  },
  {
   "cell_type": "code",
   "execution_count": 247,
   "id": "71c6f171",
   "metadata": {},
   "outputs": [],
   "source": [
    "#Alternating Least Squares\n",
    "best_U = np.random.randn(n,k)\n",
    "best_Vt = np.random.randn(m,k)\n",
    "\n",
    "max_iter = 10\n",
    "#We can do this in closed form\n",
    "\n",
    "#Solve for V first, by fixing U\n",
    "best_Vt = np.linalg.inv(best_U.T @ best_U + noise*np.eye(k)) @ best_U.T @ R\n",
    "#Solve for U, by fixing V\n",
    "best_U = (np.linalg.inv(best_Vt @ best_Vt.T + noise*np.eye(k)) @ best_Vt @ R.T).T"
   ]
  },
  {
   "cell_type": "code",
   "execution_count": 248,
   "id": "87815134",
   "metadata": {},
   "outputs": [
    {
     "data": {
      "text/plain": [
       "6.826374448653433e-05"
      ]
     },
     "execution_count": 248,
     "metadata": {},
     "output_type": "execute_result"
    }
   ],
   "source": [
    "#Check RMSE\n",
    "np.sqrt(np.mean((R - (best_U @ best_Vt))**2))"
   ]
  },
  {
   "cell_type": "markdown",
   "id": "0d12bb93",
   "metadata": {},
   "source": [
    "This is linear ALS, we can improve our results with non-linear methods like PMF (Probabilistic Matrix Factorization) later."
   ]
  },
  {
   "cell_type": "markdown",
   "id": "4761c6d2",
   "metadata": {},
   "source": [
    "#### Training and Inference"
   ]
  },
  {
   "cell_type": "markdown",
   "id": "2aaad6b3",
   "metadata": {},
   "source": [
    "By using a training dataset, how do we predict on unseen data?"
   ]
  },
  {
   "cell_type": "code",
   "execution_count": null,
   "id": "bc8b6024",
   "metadata": {},
   "outputs": [],
   "source": [
    "#TODO: Code here."
   ]
  },
  {
   "cell_type": "code",
   "execution_count": null,
   "id": "a968b342",
   "metadata": {},
   "outputs": [],
   "source": []
  },
  {
   "cell_type": "code",
   "execution_count": null,
   "id": "439c00f5",
   "metadata": {},
   "outputs": [],
   "source": []
  },
  {
   "cell_type": "markdown",
   "id": "590dbb17",
   "metadata": {},
   "source": [
    "#### Probabilistic Matrix Factorization"
   ]
  },
  {
   "cell_type": "markdown",
   "id": "814a5f27",
   "metadata": {},
   "source": [
    "We can also fit $U$ and $V$ using Probabilistic Matrix Factorization.\n",
    "- paper: https://proceedings.neurips.cc/paper_files/paper/2007/file/d7322ed717dedf1eb4e6e52a37ea7bcd-Paper.pdf"
   ]
  },
  {
   "cell_type": "code",
   "execution_count": null,
   "id": "74c220ac",
   "metadata": {},
   "outputs": [],
   "source": [
    "#TODO: Code here"
   ]
  }
 ],
 "metadata": {
  "kernelspec": {
   "display_name": "Python 3 (ipykernel)",
   "language": "python",
   "name": "python3"
  },
  "language_info": {
   "codemirror_mode": {
    "name": "ipython",
    "version": 3
   },
   "file_extension": ".py",
   "mimetype": "text/x-python",
   "name": "python",
   "nbconvert_exporter": "python",
   "pygments_lexer": "ipython3",
   "version": "3.10.9"
  }
 },
 "nbformat": 4,
 "nbformat_minor": 5
}
